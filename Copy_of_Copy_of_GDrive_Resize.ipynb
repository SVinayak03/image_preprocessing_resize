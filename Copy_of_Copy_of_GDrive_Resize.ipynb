{
  "nbformat": 4,
  "nbformat_minor": 0,
  "metadata": {
    "colab": {
      "provenance": [],
      "include_colab_link": true
    },
    "kernelspec": {
      "name": "python3",
      "display_name": "Python 3"
    },
    "accelerator": "GPU"
  },
  "cells": [
    {
      "cell_type": "markdown",
      "metadata": {
        "id": "view-in-github",
        "colab_type": "text"
      },
      "source": [
        "<a href=\"https://colab.research.google.com/github/vinayakbs311/image_preprocessing_resize/blob/main/Copy_of_Copy_of_GDrive_Resize.ipynb\" target=\"_parent\"><img src=\"https://colab.research.google.com/assets/colab-badge.svg\" alt=\"Open In Colab\"/></a>"
      ]
    },
    {
      "cell_type": "markdown",
      "metadata": {
        "id": "yhzxsJb3dpWq"
      },
      "source": [
        "#Resize Images on your Google Drive"
      ]
    },
    {
      "cell_type": "markdown",
      "metadata": {
        "id": "w4V-XE6kbkc1"
      },
      "source": [
        "## Clone the `object_detection_demo_flow` repository which also contains the resize script"
      ]
    },
    {
      "cell_type": "code",
      "metadata": {
        "id": "dxc3DmvLQF3z",
        "colab": {
          "base_uri": "https://localhost:8080/"
        },
        "outputId": "35be116e-39d0-450b-e183-e46c090551a4"
      },
      "source": [
        "repo_url = 'https://github.com/GotG/object_detection_demo_flow'\n",
        "import os\n",
        "%cd /content\n",
        "repo_dir_path = os.path.abspath(os.path.join('.', os.path.basename(repo_url)))\n",
        "!git clone {repo_url}\n",
        "%cd {repo_dir_path}\n",
        "!git pull"
      ],
      "execution_count": null,
      "outputs": [
        {
          "output_type": "stream",
          "name": "stdout",
          "text": [
            "/content\n",
            "Cloning into 'object_detection_demo_flow'...\n",
            "remote: Enumerating objects: 3038, done.\u001b[K\n",
            "remote: Counting objects: 100% (3/3), done.\u001b[K\n",
            "remote: Compressing objects: 100% (2/2), done.\u001b[K\n",
            "remote: Total 3038 (delta 0), reused 0 (delta 0), pack-reused 3035\u001b[K\n",
            "Receiving objects: 100% (3038/3038), 229.08 MiB | 21.66 MiB/s, done.\n",
            "Resolving deltas: 100% (1375/1375), done.\n",
            "Checking out files: 100% (2796/2796), done.\n",
            "/content/object_detection_demo_flow\n",
            "Already up to date.\n"
          ]
        }
      ]
    },
    {
      "cell_type": "markdown",
      "metadata": {
        "id": "6LnZjgF4N71_"
      },
      "source": [
        "#Mount your google drive"
      ]
    },
    {
      "cell_type": "code",
      "metadata": {
        "id": "KPahiXuPNQwX",
        "colab": {
          "base_uri": "https://localhost:8080/"
        },
        "outputId": "82daf056-04dd-48c7-d75c-7838f9c2c2db"
      },
      "source": [
        "#mount your google drive.\n",
        "#it will be visible in the file navigator on the left of this notebook\n",
        "#there should be a folder in your drive with your data\n",
        "from google.colab import drive\n",
        "drive.mount('/content/gdrive')\n",
        " "
      ],
      "execution_count": null,
      "outputs": [
        {
          "output_type": "stream",
          "name": "stdout",
          "text": [
            "Mounted at /content/gdrive\n"
          ]
        }
      ]
    },
    {
      "cell_type": "markdown",
      "metadata": {
        "id": "RGfk0O7opzA_"
      },
      "source": [
        "# From the file browser on the left go to gdrive/My Drive and find your image folder, right click and copy the path, then paste it after --raw-dir between ' '\n",
        "# Make a new folder for the resized images\n",
        "# Resize the images in the folder(s) on your gdrive using the cell below\n",
        "\n",
        "--raw-dir is the path to the folder containing the images to be resized\n",
        "--save-dir is the path to the folder where to save the resized images\n",
        "--ext jpg  assigns the jpg extension to the resized files\n",
        "--target-size is the desired size"
      ]
    },
    {
      "cell_type": "code",
      "metadata": {
        "id": "uvXWk5aKmXZ2",
        "colab": {
          "base_uri": "https://localhost:8080/"
        },
        "outputId": "40a31eb9-afc1-49a7-f8af-2f1351dc4321"
      },
      "source": [
        "#!python resize_images.py --raw-dir '/content/gdrive/My Drive/Nonflip' --save-dir '/content/gdrive/My Drive/Nonflip_640x480' --ext jpg --target-size \"(640,480)\"\n",
        "#/content/gdrive/MyDrive/datatest    /content/gdrive/MyDrive/datatest_resize\n",
        "!python resize_images.py --raw-dir '/content/gdrive/My Drive/bgimages' --save-dir '/content/gdrive/My Drive/bgimages_640x480' --ext jpg --target-size \"(640,480)\"\n"
      ],
      "execution_count": null,
      "outputs": [
        {
          "output_type": "stream",
          "name": "stdout",
          "text": [
            "94 files to resize from directory `/content/gdrive/My Drive/bgimages` to target size:(640, 480)\n",
            "..............................................................................................\n",
            "Done resizing 94 files.\n",
            "Saved to directory: `/content/gdrive/My Drive/bgimages_640x480`\n"
          ]
        }
      ]
    },
    {
      "cell_type": "code",
      "source": [
        "!python resize_images.py --raw-dir '/content/gdrive/MyDrive/PurvajaData_1' --save-dir '/content/gdrive/MyDrive/PurvajaData_1_640x480' --ext jpg --target-size \"(640,480)\""
      ],
      "metadata": {
        "colab": {
          "base_uri": "https://localhost:8080/"
        },
        "id": "JV-GCWfudG9D",
        "outputId": "3a7cb685-53a4-46f0-b29e-2c450149e12f"
      },
      "execution_count": null,
      "outputs": [
        {
          "output_type": "stream",
          "name": "stdout",
          "text": [
            "570 files to resize from directory `/content/gdrive/MyDrive/PurvajaData_1` to target size:(640, 480)\n",
            "..........................................................................................................................................................................................................................................................................................................................................................................................................................................................................................................................................................................................\n",
            "Done resizing 570 files.\n",
            "Saved to directory: `/content/gdrive/MyDrive/PurvajaData_1_640x480`\n"
          ]
        }
      ]
    },
    {
      "cell_type": "code",
      "source": [
        "!python resize_images.py --raw-dir '/content/gdrive/MyDrive/PurvajaData_2' --save-dir '/content/gdrive/MyDrive/PurvajaData_2_640x480' --ext jpg --target-size \"(640,480)\""
      ],
      "metadata": {
        "colab": {
          "base_uri": "https://localhost:8080/"
        },
        "id": "VZUqfBY4eiDE",
        "outputId": "b0079a3f-ebb6-47aa-92cb-80bb6428ebe3"
      },
      "execution_count": null,
      "outputs": [
        {
          "output_type": "stream",
          "name": "stdout",
          "text": [
            "65 files to resize from directory `/content/gdrive/MyDrive/PurvajaData_2` to target size:(640, 480)\n",
            ".................................................................\n",
            "Done resizing 65 files.\n",
            "Saved to directory: `/content/gdrive/MyDrive/PurvajaData_2_640x480`\n"
          ]
        }
      ]
    },
    {
      "cell_type": "code",
      "source": [
        "from google.colab import drive\n",
        "drive.mount('/content/drive')"
      ],
      "metadata": {
        "id": "ccO_gudtcoMx",
        "colab": {
          "base_uri": "https://localhost:8080/"
        },
        "outputId": "b2783e21-af17-480b-cbc9-18d1b1f27301"
      },
      "execution_count": null,
      "outputs": [
        {
          "output_type": "stream",
          "name": "stdout",
          "text": [
            "Mounted at /content/drive\n"
          ]
        }
      ]
    },
    {
      "cell_type": "code",
      "metadata": {
        "id": "Qyl2PyyVnQwH",
        "colab": {
          "base_uri": "https://localhost:8080/"
        },
        "outputId": "097a2e4a-de63-4e4f-efaa-752370b3b6c9"
      },
      "source": [
        "!python resize_images.py --raw-dir '/content/drive/MyDrive/Cattle' --save-dir '/content/drive/MyDrive/Cattle_640x480' --ext jpg --target-size \"(640,480)\""
      ],
      "execution_count": null,
      "outputs": [
        {
          "output_type": "stream",
          "name": "stdout",
          "text": [
            "53 files to resize from directory `/content/drive/MyDrive/Cattle` to target size:(640, 480)\n",
            ".....................................................\n",
            "Done resizing 53 files.\n",
            "Saved to directory: `/content/drive/MyDrive/Cattle_640x480`\n"
          ]
        }
      ]
    },
    {
      "cell_type": "code",
      "source": [
        "!python resize_images.py --raw-dir '/content/gdrive/MyDrive/My_Samples' --save-dir '/content/gdrive/MyDrive/My_Samples_640x480' --ext jpg --target-size \"(640,480)\""
      ],
      "metadata": {
        "colab": {
          "base_uri": "https://localhost:8080/"
        },
        "id": "xd2QUbKJTQ3E",
        "outputId": "9f08dddf-7f26-48f9-b5f7-687ccbf99452"
      },
      "execution_count": null,
      "outputs": [
        {
          "output_type": "stream",
          "name": "stdout",
          "text": [
            "4 files to resize from directory `/content/gdrive/MyDrive/My_Samples` to target size:(640, 480)\n",
            "....\n",
            "Done resizing 4 files.\n",
            "Saved to directory: `/content/gdrive/MyDrive/My_Samples_640x480`\n"
          ]
        }
      ]
    },
    {
      "cell_type": "code",
      "source": [
        "!python resize_images.py --raw-dir '/content/drive/MyDrive/Image.CV_images' --save-dir '/content/drive/MyDrive/Image.CV_images_640x480' --ext jpg --target-size \"(640,480)\""
      ],
      "metadata": {
        "colab": {
          "base_uri": "https://localhost:8080/"
        },
        "outputId": "9fb52c8a-0146-46d9-a3f7-4145bc462630",
        "id": "REe1_--becd8"
      },
      "execution_count": null,
      "outputs": [
        {
          "output_type": "stream",
          "name": "stdout",
          "text": [
            "429 files to resize from directory `/content/drive/MyDrive/Image.CV_images` to target size:(640, 480)\n",
            ".............................................................................................................................................................................................................................................................................................................................................................................................................................................\n",
            "Done resizing 429 files.\n",
            "Saved to directory: `/content/drive/MyDrive/Image.CV_images_640x480`\n"
          ]
        }
      ]
    }
  ]
}